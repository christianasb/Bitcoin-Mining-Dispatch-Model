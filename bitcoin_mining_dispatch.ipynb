{
  "cells": [
    {
      "cell_type": "markdown",
      "metadata": {
        "id": "view-in-github",
        "colab_type": "text"
      },
      "source": [
        "<a href=\"https://colab.research.google.com/github/christianasb/Bitcoin-Mining-Dispatch-Model/blob/main/bitcoin_mining_dispatch.ipynb\" target=\"_parent\"><img src=\"https://colab.research.google.com/assets/colab-badge.svg\" alt=\"Open In Colab\"/></a>"
      ]
    },
    {
      "cell_type": "markdown",
      "id": "bb8ca172",
      "metadata": {
        "id": "bb8ca172"
      },
      "source": [
        "# Bitcoin Mining Dispatch Model (ERCOT)\n",
        "\n",
        "This notebook builds and evaluates a Bitcoin mining dispatch model using ERCOT 15‑minute prices and the Hashrate Index **hashprice** data.  \n",
        "I am keeping language simple, using clear steps, and printing short interpretations after each section.\n",
        "\n",
        "**Goal:**  \n",
        "- assessing profitability based on miner efficiency and hashprice  \n",
        "- identifying when to operate or shut down (dispatch)  \n",
        "- computing overall profitability for a backtest window  \n",
        "- presenting high-level insights and simple visualizations"
      ]
    },
    {
      "cell_type": "markdown",
      "id": "5960ac32",
      "metadata": {
        "id": "5960ac32"
      },
      "source": [
        "## Outline\n",
        "1. User Inputs  \n",
        "2. Setup & Libraries  \n",
        "3. Data Ingestion (ERCOT CSVs and Hashrate Index API)  \n",
        "4. Preprocessing & Merge (aligning 15‑minute intervals)  \n",
        "5. Profitability Assessment (from efficiency)  \n",
        "6. Dispatch Logic (on/off)  \n",
        "7. Backtest Results (revenue, cost, profit, uptime, energy)  \n",
        "8. High-Level Insights (hourly run rate, top/bottom days, contiguous runs)  \n",
        "9. Visualizations (cumulative profit, hourly run rate, margin distribution)  \n",
        "10. Conclusions"
      ]
    },
    {
      "cell_type": "markdown",
      "id": "83a7c4ef",
      "metadata": {
        "id": "83a7c4ef"
      },
      "source": [
        "## 1) User Inputs\n",
        "\n",
        "Define all inputs here. Only edit this cell, everything after \"=\"\n",
        "- **Facility and miner settings**\n",
        "- **Date range**\n",
        "- **Zone settings**\n",
        "- **Cost settings** (spot price vs. PPA)\n",
        "- **Hashrate Index API key** (needed for hashprice)"
      ]
    },
    {
      "cell_type": "code",
      "execution_count": 17,
      "id": "1375da55",
      "metadata": {
        "id": "1375da55"
      },
      "outputs": [],
      "source": [
        "# Facility and miner settings\n",
        "facility_size       = 50.0   # Mining facility size in MW\n",
        "machine_efficiency  = 22.0   # Miner efficiency in Watts per Terahash (W/TH)\n",
        "\n",
        "# Date range for backtest\n",
        "# Format: YYYY-MM-DD (I am including the full end day up to 23:45 UTC)\n",
        "date_start = \"2022-01-01\"\n",
        "date_end   = \"2024-12-31\"\n",
        "\n",
        "# Load zone (LZ) & price type settings\n",
        "# LZ_selection can be \"ALL\" or a single zone like \"LZ_HOUSTON\" or a list like [\"LZ_HOUSTON\",\"LZ_NORTH\"]\n",
        "LZ_selection = \"ALL\"\n",
        "\n",
        "# Name of the price column in your ERCOT CSVs ('lmp_with_adders' or 'lmp').\n",
        "ercot_price = \"lmp_with_adders\"\n",
        "\n",
        "# Cost settings\n",
        "use_fixed_PPA   = False               # False = use ERCOT spot price; True = use fixed PPA\n",
        "PPA_price_MWh   = 50.0                # $/MWh (only used if use_fixed_PPA = True)\n",
        "variable_OM_MWh = 0.0                 # $/MWh variable O&M cost\n",
        "\n",
        "# Hashrate Index API Key\n",
        "# Replace with your key from hashrateindex.com\n",
        "API_KEY = \"hi.7dfcbe36e3eb05b795fc44279cd3cc\""
      ]
    },
    {
      "cell_type": "markdown",
      "id": "710d2354",
      "metadata": {
        "id": "710d2354"
      },
      "source": [
        "## 2) Setup & Libraries\n",
        "\n",
        "I am importing needed libraries and creating a simple folder for ERCOT CSVs.  \n",
        "In Colab, I upload ERCOT CSVs into `/content/ercot_csv`."
      ]
    },
    {
      "cell_type": "code",
      "execution_count": 18,
      "id": "568431c5",
      "metadata": {
        "colab": {
          "base_uri": "https://localhost:8080/"
        },
        "id": "568431c5",
        "outputId": "fde79f33-04b9-46c0-e62b-61d0bced3f80"
      },
      "outputs": [
        {
          "output_type": "stream",
          "name": "stdout",
          "text": [
            "ERCOT folder: /content/ercot_csv\n"
          ]
        }
      ],
      "source": [
        "import glob\n",
        "from pathlib import Path\n",
        "\n",
        "import numpy as np\n",
        "import pandas as pd\n",
        "import requests as rq\n",
        "import matplotlib.pyplot as plt\n",
        "import gdown as gd\n",
        "\n",
        "# Create data folder (upload your ERCOT CSVs here in Colab)\n",
        "ercot_folder = \"/content/ercot_csv\"\n",
        "Path(ercot_folder).mkdir(parents=True, exist_ok=True)\n",
        "\n",
        "print(\"ERCOT folder:\", ercot_folder)"
      ]
    },
    {
      "cell_type": "markdown",
      "id": "3057d480",
      "metadata": {
        "id": "3057d480"
      },
      "source": [
        "## 3) Data Ingestion\n",
        "\n",
        "### 3.1 ERCOT CSVs (15‑minute prices)\n",
        "I am loading all CSVs under `/content/ercot_csv`.  \n",
        "Since headers can vary across files, I am normalizing column names and resolving the correct timestamp, location, and price columns.\n",
        "\n",
        "**Instructions:** Upload your ERCOT 15‑minute price CSVs to `/content/ercot_csv`."
      ]
    },
    {
      "cell_type": "code",
      "execution_count": 19,
      "id": "c56e5a94",
      "metadata": {
        "colab": {
          "base_uri": "https://localhost:8080/"
        },
        "id": "c56e5a94",
        "outputId": "8c8fc512-6f68-4651-dd9a-b9007da80f50"
      },
      "outputs": [
        {
          "output_type": "stream",
          "name": "stdout",
          "text": [
            "Sample ERCOT columns: ['interval_start_local', 'interval_start_utc', 'interval_end_local', 'interval_end_utc', 'location', 'lmp', 'rtorpa', 'rtordpa', 'lmp_with_adders']\n",
            "ERCOT rows: 507370\n",
            "ERCOT zones sample: ['LZ_HOUSTON', 'LZ_NORTH', 'LZ_SOUTH', 'LZ_WEST']\n"
          ]
        }
      ],
      "source": [
        "# Data from Google Drive folder\n",
        "ercot_pricing_data = \"https://drive.google.com/drive/folders/16_h2zCMZZywytt0IV4RneUsiETwMtQwx?usp=sharing\"\n",
        "\n",
        "# Defining local folder where ERCOT CSVs will be saved\n",
        "ercot_folder = \"/content/ercot_csv\"\n",
        "Path(ercot_folder).mkdir(parents=True, exist_ok=True)\n",
        "\n",
        "# Downloading all CSVs from Google Drive folder into local folder\n",
        "gd.download_folder(url=ercot_pricing_data, output=ercot_folder, quiet=True, use_cookies=False)\n",
        "\n",
        "# Load & combine ERCOT CSVs\n",
        "ercot_csvs = []\n",
        "for fp in glob.glob(f\"{ercot_folder}/**/*.csv\", recursive=True):\n",
        "    try:\n",
        "        tmp = pd.read_csv(fp)\n",
        "        ercot_csvs.append(tmp)\n",
        "    except Exception as e:\n",
        "        print(f\"Skipping {fp} due to read error: {e}\")\n",
        "\n",
        "if not ercot_csvs:\n",
        "    raise RuntimeError(\"No ERCOT CSVs found in /content/ercot_csv. Please upload your files and re-run.\")\n",
        "\n",
        "ercot_df = pd.concat(ercot_csvs, ignore_index=True)\n",
        "\n",
        "# Normalize column names (lowercase, underscores)\n",
        "ercot_df.columns = [c.strip().lower().replace(\" \", \"_\") for c in ercot_df.columns]\n",
        "print(\"Sample ERCOT columns:\", list(ercot_df.columns)[:20])\n",
        "\n",
        "# Helper to pick a column by preferred names or fuzzy tokens\n",
        "def pick_col(df, preferred, aliases=(), fuzzy=None, must=True):\n",
        "    cols = set(df.columns)\n",
        "    # exact matches\n",
        "    for name in [preferred, *aliases]:\n",
        "        if name in cols:\n",
        "            return name\n",
        "    # fuzzy (all tokens must appear)\n",
        "    if fuzzy:\n",
        "        for c in df.columns:\n",
        "            if all(tok in c for tok in fuzzy):\n",
        "                return c\n",
        "    if must:\n",
        "        raise KeyError(f\"Could not find any of: {preferred} / {aliases} (fuzzy={fuzzy}) in columns.\")\n",
        "    return None\n",
        "\n",
        "# Resolve key columns\n",
        "ts_col = pick_col(\n",
        "    ercot_df,\n",
        "    preferred=\"interval_start_utc\",\n",
        "    aliases=(\"start_time_utc\",\"interval_start\",\"timestamp_utc\",\"timestamp\",\"delivery_start_utc\"),\n",
        "    fuzzy=(\"start\",\"utc\")\n",
        ")\n",
        "loc_col = pick_col(\n",
        "    ercot_df,\n",
        "    preferred=\"location\",\n",
        "    aliases=(\"load_zone\",\"settlement_point\",\"zone\",\"lz\"),\n",
        "    fuzzy=(\"l\",\"z\")  # loose fallback\n",
        ")\n",
        "\n",
        "desired_price_norm = ercot_price.strip().lower().replace(\" \", \"_\")\n",
        "price_col = pick_col(\n",
        "    ercot_df,\n",
        "    preferred=desired_price_norm,\n",
        "    aliases=(\"rtm_lmp_with_adders\",\"lmp_with_adders\",\"rtm_lmp\",\"lmp\",\"settlement_point_price\",\"price\"),\n",
        "    fuzzy=(\"lmp\",)  # fallback to any column containing 'lmp'\n",
        ")\n",
        "\n",
        "# Build a clean ERCOT zone dataframe\n",
        "ercot_zone = (\n",
        "    ercot_df[[ts_col, loc_col, price_col]]\n",
        "        .rename(columns={ts_col:\"interval_start_utc\", loc_col:\"location\", price_col:\"lz_price\"})\n",
        "        .copy()\n",
        ")\n",
        "\n",
        "# Parse timestamps to UTC 15-min grid and clean price\n",
        "ercot_zone[\"interval_start_utc\"] = pd.to_datetime(ercot_zone[\"interval_start_utc\"], utc=True, errors=\"coerce\").dt.floor(\"15min\")\n",
        "ercot_zone[\"lz_price\"] = pd.to_numeric(ercot_zone[\"lz_price\"], errors=\"coerce\")\n",
        "\n",
        "# Drop bad rows and duplicates\n",
        "ercot_zone = (\n",
        "    ercot_zone.dropna(subset=[\"interval_start_utc\",\"location\",\"lz_price\"])\n",
        "              .drop_duplicates(subset=[\"interval_start_utc\",\"location\"])\n",
        "              .sort_values([\"location\",\"interval_start_utc\"])\n",
        "              .reset_index(drop=True)\n",
        ")\n",
        "\n",
        "print(\"ERCOT rows:\", len(ercot_zone))\n",
        "print(\"ERCOT zones sample:\", sorted(ercot_zone['location'].unique())[:10])"
      ]
    },
    {
      "cell_type": "markdown",
      "id": "76428dd7",
      "metadata": {
        "id": "76428dd7"
      },
      "source": [
        "### 3.2 Hashrate Index: hashprice\n",
        "I am pulling hashprice via API, sampling at 6 hours, then forward‑filling to 15‑minute intervals to match ERCOT."
      ]
    },
    {
      "cell_type": "code",
      "execution_count": 20,
      "id": "ca4a24c8",
      "metadata": {
        "colab": {
          "base_uri": "https://localhost:8080/"
        },
        "id": "ca4a24c8",
        "outputId": "199c25c6-e1b0-424b-b26f-a2ac0c54e787"
      },
      "outputs": [
        {
          "output_type": "stream",
          "name": "stdout",
          "text": [
            "Hashprice rows in window: 105216\n"
          ]
        }
      ],
      "source": [
        "# Date window (inclusive through 23:45 on end date)\n",
        "start_dt_utc = pd.to_datetime(date_start, utc=True)\n",
        "end_dt_utc   = pd.to_datetime(date_end + \" 23:45\", utc=True)\n",
        "\n",
        "hashprice_url     = \"https://api.hashrateindex.com/v1/hashrateindex/hashprice\"\n",
        "hashprice_headers = {\"X-Hi-Api-Key\": API_KEY}\n",
        "hashprice_params  = {\"span\": \"5Y\", \"bucket\": \"6H\", \"currency\": \"USD\", \"hashunit\": \"THS\"}\n",
        "\n",
        "# Request (will run in Colab; internet disabled in some environments)\n",
        "resp = rq.get(hashprice_url, headers=hashprice_headers, params=hashprice_params, timeout=60)\n",
        "resp.raise_for_status()\n",
        "hp_json = resp.json()\n",
        "\n",
        "hashprice_df = pd.DataFrame(hp_json.get(\"data\", []))\n",
        "if hashprice_df.empty:\n",
        "    raise RuntimeError(\"Hashprice API returned no data. Check API key or try again.\")\n",
        "\n",
        "hashprice_df[\"interval_start_utc\"] = pd.to_datetime(hashprice_df[\"timestamp\"], utc=True, errors=\"coerce\").dt.floor(\"15min\")\n",
        "hashprice_df = (\n",
        "    hashprice_df.rename(columns={\"price\":\"hashprice_usd_th_day\"})\n",
        "                .drop(columns=[\"timestamp\"], errors=\"ignore\")\n",
        "                .dropna(subset=[\"interval_start_utc\",\"hashprice_usd_th_day\"])\n",
        "                .drop_duplicates(subset=[\"interval_start_utc\"])\n",
        "                .sort_values(\"interval_start_utc\")\n",
        "                .reset_index(drop=True)\n",
        ")\n",
        "\n",
        "# Resample 6H -> 15min and clip to window\n",
        "hashprice_df = (hashprice_df.set_index(\"interval_start_utc\").resample(\"15min\").ffill().reset_index())\n",
        "hashprice_df = hashprice_df[\n",
        "    (hashprice_df[\"interval_start_utc\"] >= start_dt_utc) &\n",
        "    (hashprice_df[\"interval_start_utc\"] <= end_dt_utc)\n",
        "].reset_index(drop=True)\n",
        "\n",
        "print(\"Hashprice rows in window:\", len(hashprice_df))"
      ]
    },
    {
      "cell_type": "markdown",
      "id": "81ea4018",
      "metadata": {
        "id": "81ea4018"
      },
      "source": [
        "## 4) Preprocessing & Merge\n",
        "\n",
        "I am filtering ERCOT to the date window and selected zones, then merging on the 15‑minute timestamp.  \n",
        "Hashprice is a network‑wide revenue metric, so it does not change by zone at a given timestamp."
      ]
    },
    {
      "cell_type": "code",
      "execution_count": 21,
      "id": "3f82cfd9",
      "metadata": {
        "colab": {
          "base_uri": "https://localhost:8080/"
        },
        "id": "3f82cfd9",
        "outputId": "b0f48ab9-0db5-4975-fd70-cba1d0b5233c"
      },
      "outputs": [
        {
          "output_type": "stream",
          "name": "stdout",
          "text": [
            "Merged rows: 420576\n",
            "Locations in merged: ['LZ_HOUSTON', 'LZ_NORTH', 'LZ_SOUTH', 'LZ_WEST']\n"
          ]
        }
      ],
      "source": [
        "# Filter ERCOT to date window\n",
        "ercot_zone = ercot_zone[\n",
        "    (ercot_zone[\"interval_start_utc\"] >= start_dt_utc) &\n",
        "    (ercot_zone[\"interval_start_utc\"] <= end_dt_utc)\n",
        "]\n",
        "\n",
        "# Apply LZ selection\n",
        "if isinstance(LZ_selection, str) and LZ_selection.upper() != \"ALL\":\n",
        "    ercot_zone = ercot_zone[ercot_zone[\"location\"] == LZ_selection]\n",
        "elif isinstance(LZ_selection, (list, tuple, set)):\n",
        "    ercot_zone = ercot_zone[ercot_zone[\"location\"].isin(LZ_selection)]\n",
        "\n",
        "if ercot_zone.empty:\n",
        "    raise RuntimeError(\"ERCOT data empty after filters. Check LZ_selection, dates, or data columns.\")\n",
        "\n",
        "# Merge\n",
        "merged = (\n",
        "    pd.merge(\n",
        "        ercot_zone[[\"interval_start_utc\",\"location\",\"lz_price\"]],\n",
        "        hashprice_df[[\"interval_start_utc\",\"hashprice_usd_th_day\"]],\n",
        "        on=\"interval_start_utc\",\n",
        "        how=\"inner\"\n",
        "    )\n",
        "    .sort_values([\"location\",\"interval_start_utc\"])\n",
        "    .reset_index(drop=True)\n",
        ")\n",
        "\n",
        "print(\"Merged rows:\", len(merged))\n",
        "print(\"Locations in merged:\", sorted(merged['location'].unique())[:10])"
      ]
    },
    {
      "cell_type": "markdown",
      "id": "04f6c0b1",
      "metadata": {
        "id": "04f6c0b1"
      },
      "source": [
        "## 5) Profitability Assessment (from efficiency)\n",
        "\n",
        "I am converting miner efficiency (W/TH) into **TH per MW**, then turning hashprice (USD/TH/day) into **USD/MWh**.  \n",
        "This gives revenue per unit of energy. Electricity price drives **cost per MWh**.  \n",
        "I am printing averages and a short interpretation."
      ]
    },
    {
      "cell_type": "code",
      "execution_count": 22,
      "id": "e9ca1d0c",
      "metadata": {
        "colab": {
          "base_uri": "https://localhost:8080/"
        },
        "id": "e9ca1d0c",
        "outputId": "620df9c1-f13e-4215-e222-3b70258ddbde"
      },
      "outputs": [
        {
          "output_type": "stream",
          "name": "stdout",
          "text": [
            "=== Profitability Assessment ===\n",
            "Average revenue per MWh: $166.09\n",
            "Average cost per MWh:    $48.43\n",
            "Average margin per MWh:  $117.66\n"
          ]
        }
      ],
      "source": [
        "# Efficiency: W/TH -> TH per MW (1 MW = 1,000,000 W)\n",
        "terahash_per_mw = 1_000_000.0 / float(machine_efficiency)\n",
        "\n",
        "# Revenue per MWh from hashprice & efficiency\n",
        "merged[\"revenue_per_mwh\"] = (merged[\"hashprice_usd_th_day\"] / 24.0) * terahash_per_mw\n",
        "\n",
        "# Cost per MWh: PPA or spot ERCOT price + variable O&M\n",
        "if use_fixed_PPA:\n",
        "    merged[\"cost_per_mwh\"] = float(PPA_price_MWh) + float(variable_OM_MWh)\n",
        "else:\n",
        "    merged[\"cost_per_mwh\"] = merged[\"lz_price\"] + float(variable_OM_MWh)\n",
        "\n",
        "merged[\"gross_margin_per_mwh\"] = merged[\"revenue_per_mwh\"] - merged[\"cost_per_mwh\"]\n",
        "\n",
        "print(\"=== Profitability Assessment ===\")\n",
        "avg_rev = merged[\"revenue_per_mwh\"].mean()\n",
        "avg_cost = merged[\"cost_per_mwh\"].mean()\n",
        "avg_margin = merged[\"gross_margin_per_mwh\"].mean()\n",
        "print(f\"Average revenue per MWh: ${avg_rev:,.2f}\")\n",
        "print(f\"Average cost per MWh:    ${avg_cost:,.2f}\")\n",
        "print(f\"Average margin per MWh:  ${avg_margin:,.2f}\")"
      ]
    },
    {
      "cell_type": "markdown",
      "source": [
        "Interpretation:\n",
        "- Revenue per MWh is coming from network economics (hashprice) and miner efficiency.\n",
        "- Costs per MWh come from the power price (or PPA).\n",
        "- Positive average margin suggests the mine is generally profitable per unit of energy."
      ],
      "metadata": {
        "id": "0awIQggYcfmR"
      },
      "id": "0awIQggYcfmR"
    },
    {
      "cell_type": "markdown",
      "id": "91a904c0",
      "metadata": {
        "id": "91a904c0"
      },
      "source": [
        "## 6) Dispatch Logic (on/off)\n",
        "\n",
        "I am mining when **gross margin per MWh > 0**.  \n",
        "I am calculating energy, revenue, cost, and P&L per interval for a facility size in MW."
      ]
    },
    {
      "cell_type": "code",
      "execution_count": 23,
      "id": "b3aaaca6",
      "metadata": {
        "colab": {
          "base_uri": "https://localhost:8080/"
        },
        "id": "b3aaaca6",
        "outputId": "f8667675-6297-4715-edd7-c039cb45a82f"
      },
      "outputs": [
        {
          "output_type": "stream",
          "name": "stdout",
          "text": [
            "=== Dispatch Sample (first 5 rows) ===\n",
            "         interval_start_utc    location    lz_price  revenue_per_mwh  \\\n",
            "0 2022-01-01 06:00:00+00:00  LZ_HOUSTON   51.567933       467.763073   \n",
            "1 2022-01-01 06:15:00+00:00  LZ_HOUSTON  127.041225       467.763073   \n",
            "2 2022-01-01 06:30:00+00:00  LZ_HOUSTON   38.916467       467.763073   \n",
            "3 2022-01-01 06:45:00+00:00  LZ_HOUSTON   34.923467       467.763073   \n",
            "4 2022-01-01 07:00:00+00:00  LZ_HOUSTON   31.904633       467.763073   \n",
            "\n",
            "   cost_per_mwh  gross_margin_per_mwh  dispatch_on  \n",
            "0     51.567933            416.195140         True  \n",
            "1    127.041225            340.721848         True  \n",
            "2     38.916467            428.846607         True  \n",
            "3     34.923467            432.839607         True  \n",
            "4     31.904633            435.858440         True  \n"
          ]
        }
      ],
      "source": [
        "# On/off rule\n",
        "merged[\"dispatch_on\"] = merged[\"gross_margin_per_mwh\"] > 0\n",
        "\n",
        "# 15-min energy for the facility when ON\n",
        "MWH_PER_INTERVAL = facility_size * 0.25  # 15 min = 0.25 hour\n",
        "\n",
        "merged[\"energy_mwh\"]  = np.where(merged[\"dispatch_on\"], MWH_PER_INTERVAL, 0.0)\n",
        "merged[\"revenue_usd\"] = merged[\"revenue_per_mwh\"] * merged[\"energy_mwh\"]\n",
        "merged[\"cost_usd\"]    = merged[\"cost_per_mwh\"]    * merged[\"energy_mwh\"]\n",
        "merged[\"pnl_usd\"]     = merged[\"revenue_usd\"] - merged[\"cost_usd\"]\n",
        "\n",
        "print(\"=== Dispatch Sample (first 5 rows) ===\")\n",
        "print(merged[[\"interval_start_utc\",\"location\",\"lz_price\",\"revenue_per_mwh\",\"cost_per_mwh\",\"gross_margin_per_mwh\",\"dispatch_on\"]].head())\n"
      ]
    },
    {
      "cell_type": "markdown",
      "source": [
        "Interpretation:\n",
        "- A True value means the mine is running for that 15-minute interval.\n",
        "- Dispatch is sensitive to electricity prices; hashprice is common to all zones at a given time.\n"
      ],
      "metadata": {
        "id": "l-cMGbzCcifH"
      },
      "id": "l-cMGbzCcifH"
    },
    {
      "cell_type": "markdown",
      "id": "6d4175ed",
      "metadata": {
        "id": "6d4175ed"
      },
      "source": [
        "## 7) Backtest Results\n",
        "\n",
        "I am computing total revenue, total cost, total profit, uptime %, and total energy used.  \n",
        "Then I am summarizing by zone and printing short interpretations."
      ]
    },
    {
      "cell_type": "code",
      "execution_count": 24,
      "id": "35d79ec7",
      "metadata": {
        "colab": {
          "base_uri": "https://localhost:8080/"
        },
        "id": "35d79ec7",
        "outputId": "e325e25a-59a0-447c-d6a8-1f219e009d5a"
      },
      "outputs": [
        {
          "output_type": "stream",
          "name": "stdout",
          "text": [
            "=== OVERALL SUMMARY ===\n",
            "Window (UTC): 2022-01-01 06:00:00+00:00 → 2024-12-31 23:45:00+00:00\n",
            "Facility: 50.0 MW | Efficiency: 22.00 W/TH\n",
            "Uptime: 97.3%\n",
            "Energy Used: 5,113,275 MWh\n",
            "Total Revenue: $852,834,049  |  Total Cost: $165,789,095  |  Profit: $687,044,954\n",
            "Gross Margin: 80.6%\n",
            "\n",
            "=== SUMMARY BY ZONE ===\n",
            "  location uptime_pct energy_used_mwh total_revenue_usd total_cost_usd   profit_usd avg_price_paid_per_mwh avg_revenue_per_mwh gross_margin_pct\n",
            "LZ_HOUSTON      97.6%       1,283,012      $213,575,564    $42,101,609 $171,473,955                $33/MWh            $166/MWh            80.3%\n",
            "  LZ_NORTH      97.8%       1,285,525      $214,216,286    $40,003,344 $174,212,942                $31/MWh            $167/MWh            81.3%\n",
            "  LZ_SOUTH      97.4%       1,279,712      $213,519,129    $40,393,324 $173,125,805                $32/MWh            $167/MWh            81.1%\n",
            "   LZ_WEST      96.3%       1,265,025      $211,523,070    $43,290,818 $168,232,252                $34/MWh            $167/MWh            79.5%\n"
          ]
        },
        {
          "output_type": "stream",
          "name": "stderr",
          "text": [
            "/tmp/ipython-input-2999685757.py:23: DeprecationWarning: DataFrameGroupBy.apply operated on the grouping columns. This behavior is deprecated, and in a future version of pandas the grouping columns will be excluded from the operation. Either pass `include_groups=False` to exclude the groupings or explicitly select the grouping columns after groupby to silence this warning.\n",
            "  zone_summary = merged.groupby(\"location\", as_index=False).apply(summarize_zone).reset_index(drop=True)\n"
          ]
        }
      ],
      "source": [
        "def summarize_zone(df):\n",
        "    energy = df[\"energy_mwh\"].sum()\n",
        "    # Energy-weighted averages during ON time\n",
        "    if energy > 0:\n",
        "        w = df[\"energy_mwh\"].values\n",
        "        avg_paid = (df[\"cost_per_mwh\"].values * w).sum() / energy\n",
        "        avg_rev  = (df[\"revenue_per_mwh\"].values * w).sum() / energy\n",
        "    else:\n",
        "        avg_paid = np.nan\n",
        "        avg_rev  = np.nan\n",
        "    return pd.Series({\n",
        "        \"intervals\": len(df),\n",
        "        \"uptime_pct\": 100.0 * df[\"dispatch_on\"].mean(),\n",
        "        \"energy_used_mwh\": energy,\n",
        "        \"total_revenue_usd\": df[\"revenue_usd\"].sum(),\n",
        "        \"total_cost_usd\": df[\"cost_usd\"].sum(),\n",
        "        \"profit_usd\": df[\"pnl_usd\"].sum(),\n",
        "        \"avg_price_paid_per_mwh\": avg_paid,\n",
        "        \"avg_revenue_per_mwh\": avg_rev,\n",
        "        \"gross_margin_pct\": (100.0 * (avg_rev - avg_paid) / avg_rev) if (energy > 0 and pd.notna(avg_rev) and avg_rev != 0) else np.nan\n",
        "    })\n",
        "\n",
        "zone_summary = merged.groupby(\"location\", as_index=False).apply(summarize_zone).reset_index(drop=True)\n",
        "\n",
        "overall = summarize_zone(merged)\n",
        "overall[\"window_start\"] = merged[\"interval_start_utc\"].min()\n",
        "overall[\"window_end\"]   = merged[\"interval_start_utc\"].max()\n",
        "\n",
        "def fmt_money(x):\n",
        "    return \"$\" + f\"{x:,.0f}\"\n",
        "\n",
        "print(\"=== OVERALL SUMMARY ===\")\n",
        "print(f\"Window (UTC): {overall['window_start']} → {overall['window_end']}\")\n",
        "print(f\"Facility: {facility_size:.1f} MW | Efficiency: {machine_efficiency:.2f} W/TH\")\n",
        "print(f\"Uptime: {overall['uptime_pct']:.1f}%\")\n",
        "print(f\"Energy Used: {overall['energy_used_mwh']:,.0f} MWh\")\n",
        "print(f\"Total Revenue: {fmt_money(overall['total_revenue_usd'])}  |  Total Cost: {fmt_money(overall['total_cost_usd'])}  |  Profit: {fmt_money(overall['profit_usd'])}\")\n",
        "gm = overall['gross_margin_pct']\n",
        "print(f\"Gross Margin: {gm:.1f}%\") if pd.notna(gm) else print(\"Gross Margin: NA\")\n",
        "\n",
        "print(\"\\n=== SUMMARY BY ZONE ===\")\n",
        "display_cols = [\"location\",\"uptime_pct\",\"energy_used_mwh\",\"total_revenue_usd\",\"total_cost_usd\",\"profit_usd\",\n",
        "                \"avg_price_paid_per_mwh\",\"avg_revenue_per_mwh\",\"gross_margin_pct\"]\n",
        "print(zone_summary[display_cols].to_string(index=False,\n",
        "    formatters={\n",
        "        \"uptime_pct\":       lambda v: f\"{v:.1f}%\",\n",
        "        \"energy_used_mwh\":  lambda v: f\"{v:,.0f}\",\n",
        "        \"total_revenue_usd\":fmt_money,\n",
        "        \"total_cost_usd\":   fmt_money,\n",
        "        \"profit_usd\":       fmt_money,\n",
        "        \"avg_price_paid_per_mwh\": lambda v: fmt_money(v)+\"/MWh\",\n",
        "        \"avg_revenue_per_mwh\":    lambda v: fmt_money(v)+\"/MWh\",\n",
        "        \"gross_margin_pct\": lambda v: (f\"{v:.1f}%\" if pd.notna(v) else \"NA\")\n",
        "    }))\n"
      ]
    },
    {
      "cell_type": "markdown",
      "source": [
        "Interpretation:\n",
        "- The overall P&L, uptime, and energy show how the mine performs over the whole period.\n",
        "- Zone-by-zone differences come from electricity prices; revenue per MWh is the same across zones at a given time.\n",
        "- A higher uptime with good margins usually leads to better profits.\n"
      ],
      "metadata": {
        "id": "iFFjy0WScmxp"
      },
      "id": "iFFjy0WScmxp"
    },
    {
      "cell_type": "markdown",
      "id": "eb721cac",
      "metadata": {
        "id": "eb721cac"
      },
      "source": [
        "## 8) High‑Level Insights\n",
        "\n",
        "I am summarizing hour‑of‑day run rates, best/worst profit days, and contiguous ON/OFF runs.  \n",
        "I am keeping interpretations simple and concrete."
      ]
    },
    {
      "cell_type": "code",
      "execution_count": 25,
      "id": "2d8ba6bd",
      "metadata": {
        "colab": {
          "base_uri": "https://localhost:8080/"
        },
        "id": "2d8ba6bd",
        "outputId": "777380ff-af12-4d2e-ff41-ff65c7bdcfd4"
      },
      "outputs": [
        {
          "output_type": "stream",
          "name": "stdout",
          "text": [
            "=== HOUR-OF-DAY RUN RATE (percent of intervals ON) ===\n",
            "location  LZ_HOUSTON  LZ_NORTH  LZ_SOUTH  LZ_WEST\n",
            "hour                                             \n",
            "0               90.4      89.5      90.4     86.0\n",
            "1               93.9      93.8      94.1     89.2\n",
            "2               98.9      98.9      98.5     95.1\n",
            "3               99.6      99.6      99.3     96.9\n",
            "4               99.7      99.8      99.6     98.2\n",
            "5               99.7      99.6      99.7     97.9\n",
            "6               99.9      99.9      99.9     97.8\n",
            "7               99.9      99.9      99.9     98.1\n",
            "8               99.8      99.8      99.7     98.0\n",
            "9               99.8      99.8      99.8     97.8\n",
            "10              99.7      99.7      99.5     97.6\n",
            "11              99.4      99.4      99.3     96.9\n",
            "12              98.7      98.7      98.6     96.9\n",
            "13              99.0      98.7      98.7     97.5\n",
            "14              99.4      99.3      99.3     99.0\n",
            "15              99.4      99.3      99.5     99.2\n",
            "16              99.1      99.3      99.5     99.3\n",
            "17              98.5      99.1      98.7     99.2\n",
            "18              97.4      98.3      97.3     98.5\n",
            "19              95.8      97.1      95.5     97.0\n",
            "20              94.3      96.0      93.3     95.8\n",
            "21              94.0      95.6      92.8     95.0\n",
            "22              94.7      94.9      93.0     94.2\n",
            "23              91.9      91.3      90.7     88.8\n",
            "\n",
            "=== TOP 5 DAYS BY PROFIT (per zone) ===\n",
            "\n",
            "LZ_HOUSTON\n",
            "  location       date       pnl_usd\n",
            "LZ_HOUSTON 2022-01-02 537713.014047\n",
            "LZ_HOUSTON 2022-01-04 528144.129350\n",
            "LZ_HOUSTON 2022-01-05 520962.646888\n",
            "LZ_HOUSTON 2022-01-03 518463.552500\n",
            "LZ_HOUSTON 2022-01-06 488116.240821\n",
            "\n",
            "LZ_NORTH\n",
            "location       date       pnl_usd\n",
            "LZ_NORTH 2022-01-02 536512.743213\n",
            "LZ_NORTH 2022-01-04 528438.614766\n",
            "LZ_NORTH 2022-01-05 521125.355221\n",
            "LZ_NORTH 2022-01-03 518108.760833\n",
            "LZ_NORTH 2022-01-06 487813.115821\n",
            "\n",
            "LZ_SOUTH\n",
            "location       date       pnl_usd\n",
            "LZ_SOUTH 2022-01-02 543034.586963\n",
            "LZ_SOUTH 2022-01-04 528052.329350\n",
            "LZ_SOUTH 2022-01-05 522025.251054\n",
            "LZ_SOUTH 2022-01-03 519223.802500\n",
            "LZ_SOUTH 2022-01-15 493513.350221\n",
            "\n",
            "LZ_WEST\n",
            "location       date       pnl_usd\n",
            " LZ_WEST 2022-01-04 552702.887683\n",
            " LZ_WEST 2022-01-02 544117.389047\n",
            " LZ_WEST 2022-01-05 521391.834388\n",
            " LZ_WEST 2022-01-03 518003.760833\n",
            " LZ_WEST 2022-01-15 509428.298138\n",
            "\n",
            "=== BOTTOM 5 DAYS BY PROFIT (per zone) ===\n",
            "\n",
            "LZ_HOUSTON\n",
            "  location       date      pnl_usd\n",
            "LZ_HOUSTON 2022-12-23 46495.225488\n",
            "LZ_HOUSTON 2022-12-24 51136.200219\n",
            "LZ_HOUSTON 2024-08-07 51803.745340\n",
            "LZ_HOUSTON 2024-05-09 51919.991437\n",
            "LZ_HOUSTON 2024-08-21 53760.789015\n",
            "\n",
            "LZ_NORTH\n",
            "location       date      pnl_usd\n",
            "LZ_NORTH 2022-12-23 23401.774308\n",
            "LZ_NORTH 2022-11-20 47620.219949\n",
            "LZ_NORTH 2024-08-07 48032.368998\n",
            "LZ_NORTH 2022-12-24 50487.553129\n",
            "LZ_NORTH 2022-11-16 51777.210865\n",
            "\n",
            "LZ_SOUTH\n",
            "location       date      pnl_usd\n",
            "LZ_SOUTH 2022-12-24 38612.138602\n",
            "LZ_SOUTH 2024-05-09 44315.685701\n",
            "LZ_SOUTH 2022-12-23 45898.073465\n",
            "LZ_SOUTH 2024-08-07 48029.801522\n",
            "LZ_SOUTH 2024-08-21 48543.181314\n",
            "\n",
            "LZ_WEST\n",
            "location       date      pnl_usd\n",
            " LZ_WEST 2022-12-30 18245.823859\n",
            " LZ_WEST 2023-01-08 23372.692358\n",
            " LZ_WEST 2024-08-05 33581.704009\n",
            " LZ_WEST 2024-08-08 33663.978172\n",
            " LZ_WEST 2022-11-20 34808.877506\n",
            "\n",
            "=== CONTIGUOUS RUNS (first 15 rows) ===\n",
            " index  block  dispatch_on                     start                       end  intervals  duration_hours\n",
            "     0      1         True 2022-01-01 06:00:00+00:00 2022-01-07 12:30:00+00:00        603          150.75\n",
            "     1      2        False 2022-01-07 12:45:00+00:00 2022-01-07 12:45:00+00:00          1            0.25\n",
            "     2      3         True 2022-01-07 13:00:00+00:00 2022-01-26 13:30:00+00:00       1827          456.75\n",
            "     3      4        False 2022-01-26 13:45:00+00:00 2022-01-26 13:45:00+00:00          1            0.25\n",
            "     4      5         True 2022-01-26 14:00:00+00:00 2022-01-31 13:45:00+00:00        480          120.00\n",
            "     5      6        False 2022-01-31 14:00:00+00:00 2022-01-31 14:00:00+00:00          1            0.25\n",
            "     6      7         True 2022-01-31 14:15:00+00:00 2022-02-09 12:15:00+00:00        857          214.25\n",
            "     7      8        False 2022-02-09 12:30:00+00:00 2022-02-09 13:00:00+00:00          3            0.75\n",
            "     8      9         True 2022-02-09 13:15:00+00:00 2022-02-24 03:00:00+00:00       1400          350.00\n",
            "     9     10        False 2022-02-24 03:15:00+00:00 2022-02-24 03:15:00+00:00          1            0.25\n",
            "    10     11         True 2022-02-24 03:30:00+00:00 2022-02-24 03:30:00+00:00          1            0.25\n",
            "    11     12        False 2022-02-24 03:45:00+00:00 2022-02-24 03:45:00+00:00          1            0.25\n",
            "    12     13         True 2022-02-24 04:00:00+00:00 2022-02-24 04:45:00+00:00          4            1.00\n",
            "    13     14        False 2022-02-24 05:00:00+00:00 2022-02-24 05:45:00+00:00          4            1.00\n",
            "    14     15         True 2022-02-24 06:00:00+00:00 2022-02-24 08:15:00+00:00         10            2.50\n"
          ]
        },
        {
          "output_type": "stream",
          "name": "stderr",
          "text": [
            "/tmp/ipython-input-3159218754.py:40: DeprecationWarning: DataFrameGroupBy.apply operated on the grouping columns. This behavior is deprecated, and in a future version of pandas the grouping columns will be excluded from the operation. Either pass `include_groups=False` to exclude the groupings or explicitly select the grouping columns after groupby to silence this warning.\n",
            "  runs = merged.groupby(\"location\", group_keys=False).apply(contiguous_runs).reset_index()\n"
          ]
        }
      ],
      "source": [
        "# Hour-of-day run rate\n",
        "hod = (merged.assign(hour=merged[\"interval_start_utc\"].dt.hour)\n",
        "              .groupby([\"location\",\"hour\"])[\"dispatch_on\"]\n",
        "              .mean()\n",
        "              .reset_index(name=\"run_rate_pct\"))\n",
        "hod[\"run_rate_pct\"] = (hod[\"run_rate_pct\"] * 100).round(1)\n",
        "\n",
        "print(\"=== HOUR-OF-DAY RUN RATE (percent of intervals ON) ===\")\n",
        "print(hod.pivot(index=\"hour\", columns=\"location\", values=\"run_rate_pct\").fillna(0).round(1).to_string())\n",
        "\n",
        "# Best / worst days by P&L\n",
        "by_day = (merged.assign(date=merged[\"interval_start_utc\"].dt.date)\n",
        "                 .groupby([\"location\",\"date\"])[\"pnl_usd\"].sum()\n",
        "                 .reset_index())\n",
        "top_days    = by_day.sort_values([\"location\",\"pnl_usd\"], ascending=[True, False]).groupby(\"location\").head(5)\n",
        "bottom_days = by_day.sort_values([\"location\",\"pnl_usd\"], ascending=[True, True ]).groupby(\"location\").head(5)\n",
        "\n",
        "print(\"\\n=== TOP 5 DAYS BY PROFIT (per zone) ===\")\n",
        "for loc, sub in top_days.groupby(\"location\"):\n",
        "    print(f\"\\n{loc}\")\n",
        "    print(sub.sort_values(\"pnl_usd\", ascending=False).to_string(index=False))\n",
        "\n",
        "print(\"\\n=== BOTTOM 5 DAYS BY PROFIT (per zone) ===\")\n",
        "for loc, sub in bottom_days.groupby(\"location\"):\n",
        "    print(f\"\\n{loc}\")\n",
        "    print(sub.sort_values(\"pnl_usd\", ascending=True).to_string(index=False))\n",
        "\n",
        "# Contiguous ON/OFF blocks\n",
        "def contiguous_runs(df):\n",
        "    df = df.sort_values(\"interval_start_utc\").copy()\n",
        "    df[\"block\"] = (df[\"dispatch_on\"] != df[\"dispatch_on\"].shift()).cumsum()\n",
        "    out = (df.groupby([\"block\",\"dispatch_on\"])\n",
        "             .agg(start=(\"interval_start_utc\",\"min\"),\n",
        "                  end=(\"interval_start_utc\",\"max\"),\n",
        "                  intervals=(\"interval_start_utc\",\"size\"))\n",
        "             .reset_index())\n",
        "    out[\"duration_hours\"] = out[\"intervals\"] * 0.25\n",
        "    return out\n",
        "\n",
        "runs = merged.groupby(\"location\", group_keys=False).apply(contiguous_runs).reset_index()\n",
        "print(\"\\n=== CONTIGUOUS RUNS (first 15 rows) ===\")\n",
        "print(runs.head(15).to_string(index=False))\n"
      ]
    },
    {
      "cell_type": "markdown",
      "source": [
        "Interpretation:\n",
        "- Late-night hours usually show higher run rates if power prices are lower.\n",
        "- Top days often line up with low power prices or high hashprice periods.\n",
        "- Long contiguous ON blocks are efficient; frequent toggling can be less practical in real operations.\n"
      ],
      "metadata": {
        "id": "lBdQVCircwYI"
      },
      "id": "lBdQVCircwYI"
    },
    {
      "cell_type": "markdown",
      "id": "91d5067a",
      "metadata": {
        "id": "91d5067a"
      },
      "source": [
        "## 9) Visualizations\n",
        "\n",
        "I am plotting three quick visuals:\n",
        "1. Cumulative profit over time (to see growth and drawdowns)  \n",
        "2. Hour‑of‑day run rate (average ON %)  \n",
        "3. Distribution of gross margin per MWh (how often margins are near/below/above zero)\n",
        "\n",
        "> Note: I am using Matplotlib only (no seaborn). Each chart is in its own cell."
      ]
    },
    {
      "cell_type": "code",
      "execution_count": 26,
      "id": "f041359b",
      "metadata": {
        "colab": {
          "base_uri": "https://localhost:8080/",
          "height": 487
        },
        "id": "f041359b",
        "outputId": "ebb8f3c0-734f-47a4-8d2a-0a678e522966"
      },
      "outputs": [
        {
          "output_type": "display_data",
          "data": {
            "text/plain": [
              "<Figure size 640x480 with 1 Axes>"
            ],
            "image/png": "[encoded data removed]"
          },
          "metadata": {}
        }
      ],
      "source": [
        "# 1) Cumulative profit over time\n",
        "merged_sorted = merged.sort_values(\"interval_start_utc\").copy()\n",
        "merged_sorted[\"cum_profit_usd\"] = merged_sorted[\"pnl_usd\"].cumsum()\n",
        "\n",
        "plt.figure()\n",
        "plt.plot(merged_sorted[\"interval_start_utc\"], merged_sorted[\"cum_profit_usd\"])\n",
        "plt.title(\"Cumulative Profit Over Time\")\n",
        "plt.xlabel(\"Time (UTC)\")\n",
        "plt.ylabel(\"Cumulative Profit (USD)\")\n",
        "plt.tight_layout()\n",
        "plt.show()"
      ]
    },
    {
      "cell_type": "code",
      "execution_count": 27,
      "id": "94c95c82",
      "metadata": {
        "colab": {
          "base_uri": "https://localhost:8080/",
          "height": 487
        },
        "id": "94c95c82",
        "outputId": "ad89b4af-fa34-417c-f438-bed8c9a0dc2f"
      },
      "outputs": [
        {
          "output_type": "display_data",
          "data": {
            "text/plain": [
              "<Figure size 640x480 with 1 Axes>"
            ],
            "image/png": "[encoded data removed]"
          },
          "metadata": {}
        }
      ],
      "source": [
        "# 2) Hour-of-day run rate (average ON %)\n",
        "hod_plot = hod.groupby(\"hour\")[\"run_rate_pct\"].mean().reset_index()\n",
        "\n",
        "plt.figure()\n",
        "plt.bar(hod_plot[\"hour\"], hod_plot[\"run_rate_pct\"])\n",
        "plt.title(\"Average Run Rate by Hour of Day\")\n",
        "plt.xlabel(\"Hour (UTC)\")\n",
        "plt.ylabel(\"Run Rate (%)\")\n",
        "plt.tight_layout()\n",
        "plt.show()"
      ]
    },
    {
      "cell_type": "code",
      "execution_count": 28,
      "id": "902fe40e",
      "metadata": {
        "colab": {
          "base_uri": "https://localhost:8080/",
          "height": 487
        },
        "id": "902fe40e",
        "outputId": "e119a12b-f8b2-4251-a933-1f24b17faed6"
      },
      "outputs": [
        {
          "output_type": "display_data",
          "data": {
            "text/plain": [
              "<Figure size 640x480 with 1 Axes>"
            ],
            "image/png": "[encoded data removed]"
          },
          "metadata": {}
        }
      ],
      "source": [
        "# 3) Gross margin per MWh distribution\n",
        "plt.figure()\n",
        "merged[\"gross_margin_per_mwh\"].hist(bins=50)\n",
        "plt.title(\"Distribution of Gross Margin per MWh\")\n",
        "plt.xlabel(\"Gross Margin ($/MWh)\")\n",
        "plt.ylabel(\"Frequency\")\n",
        "plt.tight_layout()\n",
        "plt.show()"
      ]
    },
    {
      "cell_type": "markdown",
      "id": "69f829ff",
      "metadata": {
        "id": "69f829ff"
      },
      "source": [
        "## 10) Conclusions\n",
        "\n",
        "**Key takeaways (simple):**\n",
        "- I am mining when revenue per MWh (from hashprice and efficiency) is above power cost per MWh.  \n",
        "- Dispatch varies by hour because power prices move through the day; hashprice is common across zones at a given time.  \n",
        "- Over the backtest window, uptime, total energy, and profit show how well this strategy performs.  \n",
        "- If I need to be more conservative, I can add a small fee buffer to the margin rule (for example, only run if margin > $1/MWh)."
      ]
    }
  ],
  "metadata": {
    "colab": {
      "provenance": [],
      "include_colab_link": true
    },
    "language_info": {
      "name": "python"
    },
    "kernelspec": {
      "name": "python3",
      "display_name": "Python 3"
    }
  },
  "nbformat": 4,
  "nbformat_minor": 5
}